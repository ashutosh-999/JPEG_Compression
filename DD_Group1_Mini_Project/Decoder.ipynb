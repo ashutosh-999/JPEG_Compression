{
  "nbformat": 4,
  "nbformat_minor": 0,
  "metadata": {
    "colab": {
      "provenance": []
    },
    "kernelspec": {
      "name": "python3",
      "display_name": "Python 3"
    },
    "language_info": {
      "name": "python"
    }
  },
  "cells": [
    {
      "cell_type": "code",
      "source": [
        "from google.colab import drive\n",
        "from google.colab import files\n",
        "import os\n",
        "import numpy as np\n",
        "from PIL import Image\n",
        "import matplotlib.pyplot as plt\n",
        "from scipy.fftpack import idct\n",
        "from scipy.fftpack import dct\n"
      ],
      "metadata": {
        "id": "Zx6OPTfBoKAE"
      },
      "execution_count": 29,
      "outputs": []
    },
    {
      "cell_type": "code",
      "execution_count": 30,
      "metadata": {
        "id": "lTiArlAfnXtW"
      },
      "outputs": [],
      "source": [
        "with open('compressed_image.jpg', 'rb') as file:\n",
        "    compressed_bitstream = file.read()\n",
        "\n",
        "# Step 2: Locate the header and metadata\n",
        "header_end_marker = compressed_bitstream.find(b'\\x00\\xFF')\n",
        "header_data = compressed_bitstream[:header_end_marker]\n",
        "\n",
        "# Step 3: Deserialize the 'compression_parameters' dictionary\n",
        "import pickle\n",
        "\n",
        "compression_parameters = pickle.loads(header_data)\n",
        "pixel_bitstream = compressed_bitstream[header_end_marker+2:]\n",
        "\n",
        "huffman_codes = compression_parameters['huffman_table']\n",
        "quantization_matrix_y = compression_parameters['quantization_matrix_y']\n",
        "quantization_matrix_cbcr = compression_parameters['quantization_matrix_cbcr']"
      ]
    },
    {
      "cell_type": "code",
      "source": [
        "print(len(pixel_bitstream))\n",
        "print(huffman_codes)"
      ],
      "metadata": {
        "colab": {
          "base_uri": "https://localhost:8080/"
        },
        "id": "v8iKSJ5DozyL",
        "outputId": "911d9bd0-d368-4cf3-968a-ea5953d06932"
      },
      "execution_count": 31,
      "outputs": [
        {
          "output_type": "stream",
          "name": "stdout",
          "text": [
            "25072\n",
            "{(-13.0, 1): '000000000', (-3.0, 2): '000000001', (9.0, 1): '00000001', (75.0, 1): '00000010', (103.0, 1): '000000110', (134.0, 1): '0000001110', (30.0, 1): '0000001111', (7.0, 1): '0000010', (74.0, 1): '00000110', (86.0, 1): '00000111', (3.0, 1): '00001', (0.0, 48): '000100000', (34.0, 1): '0001000010', (98.0, 1): '0001000011', (100.0, 1): '0001000100', (116.0, 1): '0001000101', (131.0, 1): '000100011', (0.0, 51): '0001001', (72.0, 1): '00010100', (-12.0, 1): '000101010', (69.0, 1): '000101011', (-9.0, 1): '00010110', (93.0, 1): '000101110', (124.0, 1): '0001011110', (-1.0, 4): '00010111110', (22.0, 1): '00010111111', (0.0, 55): '000110', (71.0, 1): '00011100', (129.0, 1): '000111010', (3.0, 2): '000111011', (14.0, 1): '0001111000', (23.0, 1): '000111100100', (-24.0, 1): '000111100101', (138.0, 1): '00011110011', (39.0, 1): '0001111010', (64.0, 1): '0001111011', (112.0, 1): '0001111100', (133.0, 1): '0001111101', (137.0, 1): '0001111110', (145.0, 1): '00011111110', (150.0, 1): '00011111111', (-2.0, 1): '0010', (0.0, 4): '001100', (0.0, 61): '001101', (-3.0, 1): '00111', (0.0, 40): '0100000000', (42.0, 1): '0100000001', (55.0, 1): '0100000010', (56.0, 1): '0100000011', (57.0, 1): '0100000100', (60.0, 1): '0100000101', (81.0, 1): '010000011', (-2.0, 2): '01000010', (2.0, 2): '01000011', (67.0, 1): '0100010000', (-22.0, 1): '010001000100', (0.0, 17): '010001000101', (-19.0, 1): '01000100011', (-18.0, 1): '01000100100', (-17.0, 1): '01000100101', (-14.0, 1): '0100010011', (0.0, 10): '0100010100', (0.0, 22): '010001010100', (0.0, 53): '010001010101', (0.0, 41): '01000101011', (0.0, 32): '0100010110', (6.0, 2): '010001011100', (18.0, 1): '010001011101', (21.0, 1): '0100010111100', (-32.0, 1): '0100010111101', (38.0, 1): '010001011111', (0.0, 44): '010001100', (0.0, 47): '010001101', (33.0, 1): '01000111000', (44.0, 1): '01000111001', (45.0, 1): '0100011101', (52.0, 1): '01000111100', (139.0, 1): '010001111010', (148.0, 1): '010001111011', (105.0, 1): '0100011111', (4.0, 1): '010010', (-8.0, 1): '01001100', (83.0, 1): '010011010', (125.0, 1): '0100110110', (0.0, 9): '0100110111', (8.0, 1): '01001110', (0.0, 12): '0100111100', (0.0, 31): '0100111101', (0.0, 52): '010011111', (0.0, 63): '010100', (59.0, 1): '0101010000', (104.0, 1): '0101010001', (82.0, 1): '010101001', (126.0, 1): '0101010100', (130.0, 1): '0101010101', (135.0, 1): '0101010110', (142.0, 1): '01010101110', (25.0, 1): '01010101111', (-6.0, 1): '0101011', (0.0, 49): '01011000', (12.0, 1): '010110010', (77.0, 1): '010110011', (0.0, 59): '0101101', (84.0, 1): '010111000', (0.0, 39): '010111001', (0.0, 60): '0101110100', (15.0, 1): '0101110101', (11.0, 1): '010111011', (26.0, 1): '0101111000', (36.0, 1): '01011110010', (117.0, 1): '01011110011', (40.0, 1): '0101111010', (49.0, 1): '0101111011', (66.0, 1): '0101111100', (68.0, 1): '0101111101', (101.0, 1): '0101111110', (107.0, 1): '0101111111', (1.0, 1): '011', (-1.0, 1): '100', (0.0, 3): '10100', (119.0, 1): '1010100000', (141.0, 1): '10101000010', (143.0, 1): '10101000011', (1.0, 3): '101010001', (92.0, 1): '101010010', (0.0, 11): '1010100110', (47.0, 1): '1010100111', (132.0, 1): '1010101000', (149.0, 1): '101010100100', (-29.0, 1): '1010101001010', (-25.0, 1): '1010101001011', (-15.0, 1): '10101010011', (-10.0, 1): '101010101', (-1.0, 3): '101010110', (78.0, 1): '101010111', (6.0, 1): '1010110', (5.0, 1): '1010111', (-4.0, 1): '101100', (0.0, 7): '10110100', (0.0, 15): '1011010100000', (8.0, 2): '1011010100001', (0.0, 21): '101101010001', (0.0, 30): '101101010010', (5.0, 2): '101101010011', (0.0, 36): '10110101010', (16.0, 1): '10110101011', (19.0, 1): '101101011000', (20.0, 1): '1011010110010', (152.0, 1): '1011010110011', (24.0, 1): '101101011010', (41.0, 1): '101101011011', (37.0, 1): '10110101110', (43.0, 1): '10110101111', (48.0, 1): '1011011000', (58.0, 1): '1011011001', (62.0, 1): '10110110100', (118.0, 1): '10110110101', (106.0, 1): '1011011011', (85.0, 1): '101101110', (108.0, 1): '1011011110', (123.0, 1): '1011011111', (0.0, 5): '1011100', (70.0, 1): '101110100', (90.0, 1): '101110101', (127.0, 1): '1011101100', (13.0, 1): '1011101101', (28.0, 1): '1011101110', (46.0, 1): '1011101111', (1.0, 2): '101111', (76.0, 1): '110000000', (109.0, 1): '1100000010', (122.0, 1): '1100000011', (88.0, 1): '110000010', (140.0, 1): '110000011000', (144.0, 1): '110000011001', (-4.0, 2): '11000001101', (4.0, 2): '11000001110', (32.0, 1): '11000001111', (35.0, 1): '11000010000', (61.0, 1): '11000010001', (65.0, 1): '1100001001', (94.0, 1): '1100001010', (95.0, 1): '1100001011', (96.0, 1): '1100001100', (102.0, 1): '11000011010', (120.0, 1): '11000011011', (111.0, 1): '1100001110', (121.0, 1): '1100001111', (-1.0, 2): '110001', (0.0, 2): '11001', (0.0, 58): '110100', (79.0, 1): '110101000', (80.0, 1): '110101001', (136.0, 1): '1101010100', (97.0, 1): '1101010101', (91.0, 1): '110101011', (0.0, 54): '110101100', (87.0, 1): '110101101', (0.0, 14): '11010111000', (0.0, 33): '11010111001', (0.0, 38): '1101011101', (10.0, 1): '110101111', (-7.0, 1): '11011000', (0.0, 6): '11011001', (0.0, 56): '1101101', (-5.0, 1): '1101110', (51.0, 1): '110111100000', (146.0, 1): '110111100001', (53.0, 1): '11011110001', (115.0, 1): '11011110010', (147.0, 1): '110111100110', (151.0, 1): '110111100111', (0.0, 46): '110111101', (89.0, 1): '110111110', (110.0, 1): '1101111110', (0.0, 37): '1101111111', (0.0, 1): '1110', (0.0, 62): '1111000', (0.0, 45): '111100100', (27.0, 1): '11110010100', (29.0, 1): '11110010101', (31.0, 1): '11110010110', (114.0, 1): '11110010111', (0.0, 50): '11110011', (-11.0, 1): '1111010000', (128.0, 1): '1111010001', (-28.0, 1): '11110100100000', (-26.0, 1): '11110100100001', (-27.0, 1): '1111010010001', (-23.0, 1): '11110100100100', (-21.0, 1): '11110100100101', (-20.0, 1): '1111010010011', (-16.0, 1): '11110100101', (-13.0, 2): '111101001100000', (-8.0, 2): '111101001100001', (-7.0, 2): '111101001100010', (-3.0, 3): '111101001100011', (-6.0, 2): '1111010011001', (-5.0, 2): '1111010011010', (-2.0, 3): '1111010011011', (0.0, 13): '111101001110', (0.0, 16): '1111010011110', (0.0, 18): '11110100111110', (0.0, 25): '11110100111111', (0.0, 8): '1111010100', (0.0, 19): '1111010101000', (0.0, 20): '1111010101001', (0.0, 23): '111101010101', (0.0, 24): '111101010110', (0.0, 26): '111101010111000', (1.0, 5): '111101010111001', (0.0, 35): '11110101011101', (1.0, 4): '1111010101111', (0.0, 34): '111101011000', (2.0, 3): '11110101100100', (10.0, 2): '11110101100101', (11.0, 2): '11110101100110', (14.0, 2): '111101011001110', (15.0, 2): '111101011001111', (0.0, 43): '11110101101', (17.0, 1): '11110101110', (50.0, 1): '11110101111', (54.0, 1): '11110110000', (63.0, 1): '11110110001', (99.0, 1): '11110110010', (113.0, 1): '11110110011', (73.0, 1): '111101101', (0.0, 57): '11110111', (2.0, 1): '11111'}\n"
          ]
        }
      ]
    },
    {
      "cell_type": "code",
      "source": [
        "packaged_data = []\n",
        "i = 0\n",
        "while i < len(pixel_bitstream):\n",
        "    # First byte represents the byte count\n",
        "    byte_count = int.from_bytes(pixel_bitstream[i:i+1], byteorder='big')\n",
        "    i += 1\n",
        "    # Extract the byte array\n",
        "    byte_array = pixel_bitstream[i:i+byte_count]\n",
        "    packaged_data.append(byte_array)\n",
        "    i += byte_count"
      ],
      "metadata": {
        "id": "L4eVxzPIo2qS"
      },
      "execution_count": 32,
      "outputs": []
    },
    {
      "cell_type": "code",
      "source": [
        "print(len(packaged_data))\n",
        "print((packaged_data[0]))"
      ],
      "metadata": {
        "colab": {
          "base_uri": "https://localhost:8080/"
        },
        "id": "bva6ZH-3qack",
        "outputId": "b5b256de-cf06-40e4-a4ba-d7a8d75dd94b"
      },
      "execution_count": 33,
      "outputs": [
        {
          "output_type": "stream",
          "name": "stdout",
          "text": [
            "1024\n",
            "b'\\x03\\x03\\x02\\x9c\\xcd\\x03\\x025\\xbc\\xcd\\x03\\x01\\x0f\\xbc\\xcd'\n"
          ]
        }
      ]
    },
    {
      "cell_type": "code",
      "source": [
        "encoded_blocks = []\n",
        "for package in packaged_data:\n",
        "  i = 0\n",
        "  single_block = []\n",
        "  while i < len(package):\n",
        "    # First byte represents the byte count\n",
        "    byte_count = int.from_bytes(package[i:i+1], byteorder='big')\n",
        "    i += 1\n",
        "    # Extract the leading_zero_count\n",
        "    leading_zero_count = int.from_bytes(package[i:i+1], byteorder='big')\n",
        "    i += 1\n",
        "    # Extract the byte array\n",
        "    byte_array = package[i:i+byte_count]\n",
        "    b_string = ''.join(format(byte, '08b') for byte in byte_array)\n",
        "    binary_string = b_string[leading_zero_count:]\n",
        "    single_block.append(binary_string)\n",
        "    i += byte_count\n",
        "  encoded_blocks.append(single_block)"
      ],
      "metadata": {
        "id": "kvsUEC8zqeJk"
      },
      "execution_count": 34,
      "outputs": []
    },
    {
      "cell_type": "code",
      "source": [
        "print(np.array(encoded_blocks).shape)\n",
        "print((encoded_blocks[0]))"
      ],
      "metadata": {
        "colab": {
          "base_uri": "https://localhost:8080/"
        },
        "id": "X730caKMsz9t",
        "outputId": "162bfff1-9680-47f5-b8db-73ab756f0210"
      },
      "execution_count": 35,
      "outputs": [
        {
          "output_type": "stream",
          "name": "stdout",
          "text": [
            "(1024, 3)\n",
            "['000101001110011001101', '1101011011110011001101', '00011111011110011001101']\n"
          ]
        }
      ]
    },
    {
      "cell_type": "code",
      "source": [
        "print((encoded_blocks[4][2]))"
      ],
      "metadata": {
        "colab": {
          "base_uri": "https://localhost:8080/"
        },
        "id": "KnljlLBOuE90",
        "outputId": "7a1d582d-d7e4-4a3f-c4e3-c99ca5224c3f"
      },
      "execution_count": 36,
      "outputs": [
        {
          "output_type": "stream",
          "name": "stdout",
          "text": [
            "1011011110001010100011110100\n"
          ]
        }
      ]
    },
    {
      "cell_type": "code",
      "source": [
        "rle_encoded_blocks = []\n",
        "\n",
        "for encoded_block in encoded_blocks:\n",
        "    rle_encoded_block = []\n",
        "    for encoded_channel in encoded_block:\n",
        "        rle_channel_data = []\n",
        "        code = ''\n",
        "        for bit in encoded_channel:\n",
        "            code += bit\n",
        "            for symbol, huff_code in huffman_codes.items():\n",
        "                if code == huff_code:\n",
        "                    rle_channel_data.append(symbol)\n",
        "                    code = ''\n",
        "        rle_encoded_block.append(rle_channel_data)\n",
        "    rle_encoded_blocks.append(rle_encoded_block)"
      ],
      "metadata": {
        "id": "CIxDH3bDu1mc"
      },
      "execution_count": 37,
      "outputs": []
    },
    {
      "cell_type": "code",
      "source": [
        "print(np.array(rle_encoded_blocks).shape)\n",
        "print(rle_encoded_blocks[0][0])"
      ],
      "metadata": {
        "colab": {
          "base_uri": "https://localhost:8080/"
        },
        "id": "sM9Vr05Rvflt",
        "outputId": "0b8898f0-760e-4b57-b619-58828b398780"
      },
      "execution_count": 38,
      "outputs": [
        {
          "output_type": "stream",
          "name": "stdout",
          "text": [
            "(1024, 3)\n",
            "[(72.0, 1), (0.0, 1), (1.0, 1), (0.0, 61)]\n"
          ]
        },
        {
          "output_type": "stream",
          "name": "stderr",
          "text": [
            "<ipython-input-38-2afc18c31c32>:1: VisibleDeprecationWarning: Creating an ndarray from ragged nested sequences (which is a list-or-tuple of lists-or-tuples-or ndarrays with different lengths or shapes) is deprecated. If you meant to do this, you must specify 'dtype=object' when creating the ndarray.\n",
            "  print(np.array(rle_encoded_blocks).shape)\n"
          ]
        }
      ]
    },
    {
      "cell_type": "code",
      "source": [
        "def de_zigzag_scan(result):\n",
        "    # print(len(result))\n",
        "    h, w = (8,8)\n",
        "    matrix = [[0] * 8 for _ in range(8)]\n",
        "    x, y = 0, 0\n",
        "    for i in range(h * w):\n",
        "        tmp = result[i]\n",
        "        matrix[x][y] = tmp\n",
        "        if (x + y) % 2 == 0:  # Upward\n",
        "            if x == 0 and y!=w-1:\n",
        "                y += 1\n",
        "            elif y == w - 1:\n",
        "                x += 1\n",
        "            else:\n",
        "                y += 1\n",
        "                x -= 1\n",
        "        else:  # Downward\n",
        "            if y == 0 and x!=h-1:\n",
        "                x += 1\n",
        "            elif x == h - 1:\n",
        "                y += 1\n",
        "            else:\n",
        "                y -= 1\n",
        "                x += 1\n",
        "    return matrix\n",
        "\n",
        "def expand_rle(rle_data):\n",
        "    expanded_data = []\n",
        "    for value, run_length in rle_data:\n",
        "        expanded_data.extend([value] * run_length)\n",
        "    return expanded_data\n",
        "\n",
        "# Expand RLE data for each element in the array\n",
        "expanded_linear_array = np.zeros(shape=(1024,8,8,3))\n",
        "\n",
        "for i in range(len(rle_encoded_blocks)):\n",
        "    for c in range(3):\n",
        "        channel_data = rle_encoded_blocks[i][c]\n",
        "        # print(\"infb: \", channel_data)\n",
        "        expanded_channel = expand_rle(channel_data)\n",
        "        # print(\"inf: \", len(expanded_channel))\n",
        "        expanded_channel_matrix = de_zigzag_scan(expanded_channel)\n",
        "        expanded_linear_array[i,:,:,c] = expanded_channel_matrix\n",
        "\n",
        "\n"
      ],
      "metadata": {
        "id": "YXc863jnvjpi"
      },
      "execution_count": 39,
      "outputs": []
    },
    {
      "cell_type": "code",
      "source": [
        "ex = np.zeros(shape=(1024,8,8,3))\n",
        "ex.shape"
      ],
      "metadata": {
        "colab": {
          "base_uri": "https://localhost:8080/"
        },
        "id": "amIcLfIzyFXB",
        "outputId": "4e0ff454-ca5b-4914-ad23-b28facb11704"
      },
      "execution_count": 40,
      "outputs": [
        {
          "output_type": "execute_result",
          "data": {
            "text/plain": [
              "(1024, 8, 8, 3)"
            ]
          },
          "metadata": {},
          "execution_count": 40
        }
      ]
    },
    {
      "cell_type": "code",
      "source": [
        "print(np.array(expanded_linear_array).shape)\n",
        "print(np.array(expanded_linear_array)[1,:,:,1])"
      ],
      "metadata": {
        "colab": {
          "base_uri": "https://localhost:8080/"
        },
        "id": "ZdMmhAnCFlXq",
        "outputId": "42755fd4-45c1-40cf-9fe4-87eacf99b14c"
      },
      "execution_count": 41,
      "outputs": [
        {
          "output_type": "stream",
          "name": "stdout",
          "text": [
            "(1024, 8, 8, 3)\n",
            "[[86.  0.  0.  0.  0.  0.  0.  0.]\n",
            " [ 0.  0.  0.  0.  0.  0.  0.  0.]\n",
            " [ 0.  0.  0.  0.  0.  0.  0.  0.]\n",
            " [ 0.  0.  0.  0.  0.  0.  0.  0.]\n",
            " [ 0.  0.  0.  0.  0.  0.  0.  0.]\n",
            " [ 0.  0.  0.  0.  0.  0.  0.  0.]\n",
            " [ 0.  0.  0.  0.  0.  0.  0.  0.]\n",
            " [ 0.  0.  0.  0.  0.  0.  0.  0.]]\n"
          ]
        }
      ]
    },
    {
      "cell_type": "code",
      "source": [
        "dequantized_blocks = np.zeros(shape=(1024,8,8,3))\n",
        "for i in range(len(expanded_linear_array)):\n",
        "  for c in range(3):\n",
        "    channel = expanded_linear_array[i,:,:,c]\n",
        "    if c==0:\n",
        "      dequantized_channel = channel*quantization_matrix_y/10\n",
        "    else:\n",
        "      dequantized_channel = channel*quantization_matrix_cbcr/10\n",
        "    dequantized_blocks[i,:,:,c] = dequantized_channel\n",
        "  # dequantized_blocks.append(dequantized_channels)"
      ],
      "metadata": {
        "id": "y9um7JbHFoqA"
      },
      "execution_count": 42,
      "outputs": []
    },
    {
      "cell_type": "code",
      "source": [
        "print(np.array(dequantized_blocks[1,:,:,1]))\n",
        "dequantized_blocks = np.array(dequantized_blocks)"
      ],
      "metadata": {
        "colab": {
          "base_uri": "https://localhost:8080/"
        },
        "id": "RA4EZniulj3f",
        "outputId": "267944ee-895a-4367-8721-584e57547c2e"
      },
      "execution_count": 43,
      "outputs": [
        {
          "output_type": "stream",
          "name": "stdout",
          "text": [
            "[[146.2   0.    0.    0.    0.    0.    0.    0. ]\n",
            " [  0.    0.    0.    0.    0.    0.    0.    0. ]\n",
            " [  0.    0.    0.    0.    0.    0.    0.    0. ]\n",
            " [  0.    0.    0.    0.    0.    0.    0.    0. ]\n",
            " [  0.    0.    0.    0.    0.    0.    0.    0. ]\n",
            " [  0.    0.    0.    0.    0.    0.    0.    0. ]\n",
            " [  0.    0.    0.    0.    0.    0.    0.    0. ]\n",
            " [  0.    0.    0.    0.    0.    0.    0.    0. ]]\n"
          ]
        }
      ]
    },
    {
      "cell_type": "code",
      "source": [
        "def inverse_dct_block(block):\n",
        "    return idct(idct(block, axis=0, norm='ortho'), axis=1, norm='ortho')\n",
        "\n",
        "# Apply inverse DCT to all blocks\n",
        "idct_blocks = np.zeros_like(dequantized_blocks)\n",
        "\n",
        "for block_index in range(1024):\n",
        "    for channel in range(3):\n",
        "        channel_block = dequantized_blocks[block_index, :, :, channel]\n",
        "        idct_channel_block = inverse_dct_block(channel_block)\n",
        "        idct_blocks[block_index,:,:,channel] = idct_channel_block\n",
        "    # idct_blocks.append(idct_block)\n",
        "\n",
        "# Convert the list to a NumPy array\n",
        "# idct_blocks = np.array(idct_blocks)"
      ],
      "metadata": {
        "id": "oD2hZJ7dlnRm"
      },
      "execution_count": 16,
      "outputs": []
    },
    {
      "cell_type": "code",
      "source": [
        "print(idct_blocks.shape)\n",
        "print(idct_blocks[1,:,:,1])"
      ],
      "metadata": {
        "colab": {
          "base_uri": "https://localhost:8080/"
        },
        "id": "gRNr8qbTmm7P",
        "outputId": "e483e3df-513d-4bb9-fcd8-4b39ad1bfb4b"
      },
      "execution_count": 17,
      "outputs": [
        {
          "output_type": "stream",
          "name": "stdout",
          "text": [
            "(1024, 8, 8, 3)\n",
            "[[18.275 18.275 18.275 18.275 18.275 18.275 18.275 18.275]\n",
            " [18.275 18.275 18.275 18.275 18.275 18.275 18.275 18.275]\n",
            " [18.275 18.275 18.275 18.275 18.275 18.275 18.275 18.275]\n",
            " [18.275 18.275 18.275 18.275 18.275 18.275 18.275 18.275]\n",
            " [18.275 18.275 18.275 18.275 18.275 18.275 18.275 18.275]\n",
            " [18.275 18.275 18.275 18.275 18.275 18.275 18.275 18.275]\n",
            " [18.275 18.275 18.275 18.275 18.275 18.275 18.275 18.275]\n",
            " [18.275 18.275 18.275 18.275 18.275 18.275 18.275 18.275]]\n"
          ]
        }
      ]
    },
    {
      "cell_type": "code",
      "source": [
        "num_blocks_h = 32  # Number of blocks in the height (rows)\n",
        "num_blocks_w = 32  # Number of blocks in the width (columns)\n",
        "\n",
        "pixel_array = idct_blocks.reshape(num_blocks_h, num_blocks_w, 8, 8, 3).transpose(0, 2, 1, 3, 4).reshape(num_blocks_h * 8, num_blocks_w * 8, 3)\n"
      ],
      "metadata": {
        "id": "EV3-BL7UmrgE"
      },
      "execution_count": 18,
      "outputs": []
    },
    {
      "cell_type": "code",
      "source": [
        "print(pixel_array.shape)"
      ],
      "metadata": {
        "colab": {
          "base_uri": "https://localhost:8080/"
        },
        "id": "Ju_m-cV9ujHK",
        "outputId": "3483c331-4c1d-412e-c2a4-e63ddea014ed"
      },
      "execution_count": 19,
      "outputs": [
        {
          "output_type": "stream",
          "name": "stdout",
          "text": [
            "(256, 256, 3)\n"
          ]
        }
      ]
    },
    {
      "cell_type": "code",
      "source": [
        "rgb_to_ycbcr = np.array([[0.299, 0.587, 0.114],\n",
        "                        [-0.168736, -0.331264, 0.5],\n",
        "                        [0.5, -0.418688, -0.081312]])\n",
        "\n",
        "def ycbcr_to_rgb(color_m):\n",
        "  M = [[0.2126*(219/255) , 0.7152*(219/255) , 0.0722*(219/255)],\n",
        "     [-(0.2126/1.18556)*(224/255) , (0.7152/1.8556)*(224/255) , 0.5*(219/255)],\n",
        "     [0.5*(224/255) , (0.7152/1.5748)*(224/255) , (0.0722/1.5748)*(224/255)]]\n",
        "\n",
        "  K = [[16], [128], [128]]\n",
        "\n",
        "  res = np.dot(np.linalg.inv(M),(color_m.T-K))\n",
        "\n",
        "  # Clip the values to the [0, 255] range\n",
        "  res = (np.round(np.clip(res, 0, 255)))\n",
        "\n",
        "  return res"
      ],
      "metadata": {
        "id": "5wdiJZM7ulcd"
      },
      "execution_count": 20,
      "outputs": []
    },
    {
      "cell_type": "code",
      "source": [
        "pixel_array_rgb = []\n",
        "for i in range(len(pixel_array)):\n",
        "  col_rgb = []\n",
        "  for j in range(len(pixel_array[i])):\n",
        "    x = np.array([pixel_array[i][j]])\n",
        "    tmp = np.transpose(ycbcr_to_rgb(x))\n",
        "\n",
        "    col_rgb.append([tmp[0][0], tmp[0][1], tmp[0][2]])\n",
        "  pixel_array_rgb.append(col_rgb)\n"
      ],
      "metadata": {
        "id": "B5Pv9j4BxLPG"
      },
      "execution_count": 21,
      "outputs": []
    },
    {
      "cell_type": "code",
      "source": [
        "pixel_array_rgb = np.array(pixel_array_rgb)\n",
        "pixel_array_rgb /= 255"
      ],
      "metadata": {
        "id": "nUVnNtlqRGXp"
      },
      "execution_count": 22,
      "outputs": []
    },
    {
      "cell_type": "code",
      "source": [
        "print(np.array(pixel_array_rgb).shape)\n",
        "print(pixel_array_rgb[35])"
      ],
      "metadata": {
        "colab": {
          "base_uri": "https://localhost:8080/"
        },
        "id": "6TgzoTaptSYM",
        "outputId": "e9b241f8-afa9-49b2-feda-3faccb177603"
      },
      "execution_count": 23,
      "outputs": [
        {
          "output_type": "stream",
          "name": "stdout",
          "text": [
            "(256, 256, 3)\n",
            "[[0.         0.54509804 0.        ]\n",
            " [0.         0.54117647 0.        ]\n",
            " [0.         0.54117647 0.        ]\n",
            " [0.         0.54117647 0.        ]\n",
            " [0.         0.54117647 0.        ]\n",
            " [0.         0.5372549  0.        ]\n",
            " [0.         0.52941176 0.        ]\n",
            " [0.         0.5254902  0.        ]\n",
            " [0.         0.51764706 0.        ]\n",
            " [0.         0.50980392 0.        ]\n",
            " [0.         0.50196078 0.        ]\n",
            " [0.         0.50196078 0.        ]\n",
            " [0.         0.50588235 0.        ]\n",
            " [0.         0.51764706 0.        ]\n",
            " [0.         0.52156863 0.        ]\n",
            " [0.         0.5254902  0.        ]\n",
            " [0.         0.53333333 0.        ]\n",
            " [0.         0.5372549  0.        ]\n",
            " [0.         0.54117647 0.        ]\n",
            " [0.         0.54509804 0.        ]\n",
            " [0.         0.54117647 0.        ]\n",
            " [0.         0.54117647 0.        ]\n",
            " [0.         0.54117647 0.        ]\n",
            " [0.         0.54117647 0.        ]\n",
            " [0.         0.54117647 0.        ]\n",
            " [0.         0.5372549  0.        ]\n",
            " [0.         0.5372549  0.        ]\n",
            " [0.         0.53333333 0.        ]\n",
            " [0.         0.53333333 0.        ]\n",
            " [0.         0.52941176 0.        ]\n",
            " [0.         0.52156863 0.        ]\n",
            " [0.         0.51372549 0.        ]\n",
            " [0.         0.50980392 0.        ]\n",
            " [0.         0.50196078 0.        ]\n",
            " [0.         0.49803922 0.        ]\n",
            " [0.         0.50588235 0.        ]\n",
            " [0.         0.50980392 0.        ]\n",
            " [0.         0.50588235 0.        ]\n",
            " [0.         0.50588235 0.        ]\n",
            " [0.         0.50980392 0.        ]\n",
            " [0.         0.50980392 0.        ]\n",
            " [0.         0.50980392 0.        ]\n",
            " [0.         0.50980392 0.        ]\n",
            " [0.         0.50980392 0.        ]\n",
            " [0.         0.50980392 0.        ]\n",
            " [0.         0.50980392 0.        ]\n",
            " [0.         0.50980392 0.        ]\n",
            " [0.         0.50980392 0.        ]\n",
            " [0.         0.50980392 0.        ]\n",
            " [0.         0.50980392 0.        ]\n",
            " [0.         0.51372549 0.        ]\n",
            " [0.         0.51372549 0.        ]\n",
            " [0.         0.51372549 0.        ]\n",
            " [0.         0.51372549 0.        ]\n",
            " [0.         0.51372549 0.        ]\n",
            " [0.         0.51764706 0.        ]\n",
            " [0.         0.51764706 0.        ]\n",
            " [0.         0.51764706 0.        ]\n",
            " [0.         0.51764706 0.        ]\n",
            " [0.         0.51764706 0.        ]\n",
            " [0.         0.51764706 0.        ]\n",
            " [0.         0.51764706 0.        ]\n",
            " [0.         0.51764706 0.        ]\n",
            " [0.         0.51764706 0.        ]\n",
            " [0.         0.51372549 0.        ]\n",
            " [0.         0.51372549 0.        ]\n",
            " [0.         0.51764706 0.        ]\n",
            " [0.         0.51764706 0.        ]\n",
            " [0.         0.52156863 0.        ]\n",
            " [0.         0.52156863 0.        ]\n",
            " [0.         0.52156863 0.        ]\n",
            " [0.         0.5254902  0.        ]\n",
            " [0.         0.52941176 0.        ]\n",
            " [0.         0.51764706 0.        ]\n",
            " [0.         0.51764706 0.        ]\n",
            " [0.         0.5254902  0.        ]\n",
            " [0.         0.52941176 0.        ]\n",
            " [0.         0.52156863 0.        ]\n",
            " [0.         0.51764706 0.        ]\n",
            " [0.         0.51764706 0.        ]\n",
            " [0.         0.51372549 0.        ]\n",
            " [0.         0.51372549 0.        ]\n",
            " [0.         0.51372549 0.        ]\n",
            " [0.         0.51764706 0.        ]\n",
            " [0.         0.51764706 0.        ]\n",
            " [0.         0.52156863 0.        ]\n",
            " [0.         0.52156863 0.        ]\n",
            " [0.         0.52156863 0.        ]\n",
            " [0.         0.52156863 0.        ]\n",
            " [0.         0.52156863 0.        ]\n",
            " [0.         0.52156863 0.        ]\n",
            " [0.         0.52156863 0.        ]\n",
            " [0.         0.52156863 0.        ]\n",
            " [0.         0.5254902  0.        ]\n",
            " [0.         0.5254902  0.        ]\n",
            " [0.         0.52941176 0.        ]\n",
            " [0.         0.52156863 0.        ]\n",
            " [0.         0.5254902  0.        ]\n",
            " [0.         0.5254902  0.        ]\n",
            " [0.         0.52941176 0.        ]\n",
            " [0.         0.52941176 0.        ]\n",
            " [0.         0.52941176 0.        ]\n",
            " [0.         0.52941176 0.        ]\n",
            " [0.         0.5254902  0.        ]\n",
            " [0.         0.52941176 0.        ]\n",
            " [0.         0.52941176 0.        ]\n",
            " [0.         0.53333333 0.        ]\n",
            " [0.         0.53333333 0.        ]\n",
            " [0.         0.53333333 0.        ]\n",
            " [0.         0.5372549  0.        ]\n",
            " [0.         0.5372549  0.        ]\n",
            " [0.         0.5372549  0.        ]\n",
            " [0.         0.54509804 0.        ]\n",
            " [0.         0.54509804 0.        ]\n",
            " [0.         0.54509804 0.        ]\n",
            " [0.         0.54901961 0.        ]\n",
            " [0.         0.54901961 0.        ]\n",
            " [0.         0.54901961 0.        ]\n",
            " [0.         0.54901961 0.        ]\n",
            " [0.         0.54901961 0.        ]\n",
            " [0.         0.55294118 0.        ]\n",
            " [0.         0.55294118 0.        ]\n",
            " [0.         0.55294118 0.        ]\n",
            " [0.         0.55294118 0.        ]\n",
            " [0.         0.55294118 0.        ]\n",
            " [0.         0.55686275 0.        ]\n",
            " [0.         0.55686275 0.        ]\n",
            " [0.         0.55686275 0.        ]\n",
            " [0.         0.54901961 0.        ]\n",
            " [0.         0.55294118 0.        ]\n",
            " [0.         0.55294118 0.        ]\n",
            " [0.         0.55686275 0.        ]\n",
            " [0.         0.56078431 0.        ]\n",
            " [0.         0.56078431 0.        ]\n",
            " [0.         0.56078431 0.        ]\n",
            " [0.         0.56078431 0.        ]\n",
            " [0.         0.56862745 0.        ]\n",
            " [0.         0.56078431 0.        ]\n",
            " [0.         0.56078431 0.        ]\n",
            " [0.         0.56470588 0.        ]\n",
            " [0.         0.57254902 0.        ]\n",
            " [0.         0.56862745 0.        ]\n",
            " [0.         0.54901961 0.        ]\n",
            " [0.         0.53333333 0.        ]\n",
            " [0.         0.51372549 0.        ]\n",
            " [0.         0.50588235 0.        ]\n",
            " [0.         0.50588235 0.        ]\n",
            " [0.         0.51764706 0.        ]\n",
            " [0.         0.5254902  0.        ]\n",
            " [0.         0.5254902  0.        ]\n",
            " [0.         0.52156863 0.        ]\n",
            " [0.         0.52156863 0.        ]\n",
            " [0.         0.51764706 0.        ]\n",
            " [0.         0.51372549 0.        ]\n",
            " [0.         0.51372549 0.        ]\n",
            " [0.         0.51372549 0.        ]\n",
            " [0.         0.51372549 0.        ]\n",
            " [0.         0.51372549 0.        ]\n",
            " [0.         0.51372549 0.        ]\n",
            " [0.         0.51372549 0.        ]\n",
            " [0.         0.51372549 0.        ]\n",
            " [0.         0.51372549 0.        ]\n",
            " [0.         0.51372549 0.        ]\n",
            " [0.         0.51372549 0.        ]\n",
            " [0.         0.51372549 0.        ]\n",
            " [0.         0.51372549 0.        ]\n",
            " [0.         0.51764706 0.        ]\n",
            " [0.         0.52156863 0.        ]\n",
            " [0.         0.5254902  0.        ]\n",
            " [0.         0.52941176 0.        ]\n",
            " [0.         0.53333333 0.        ]\n",
            " [0.         0.53333333 0.        ]\n",
            " [0.         0.52941176 0.        ]\n",
            " [0.         0.52941176 0.        ]\n",
            " [0.         0.53333333 0.        ]\n",
            " [0.         0.53333333 0.        ]\n",
            " [0.         0.53333333 0.        ]\n",
            " [0.         0.53333333 0.        ]\n",
            " [0.         0.53333333 0.        ]\n",
            " [0.         0.52941176 0.        ]\n",
            " [0.         0.52941176 0.        ]\n",
            " [0.         0.5254902  0.        ]\n",
            " [0.         0.5254902  0.        ]\n",
            " [0.         0.5254902  0.        ]\n",
            " [0.         0.5254902  0.        ]\n",
            " [0.         0.5254902  0.        ]\n",
            " [0.         0.52941176 0.        ]\n",
            " [0.         0.52941176 0.        ]\n",
            " [0.         0.52941176 0.        ]\n",
            " [0.         0.52941176 0.        ]\n",
            " [0.         0.52941176 0.        ]\n",
            " [0.         0.52941176 0.        ]\n",
            " [0.         0.52941176 0.        ]\n",
            " [0.         0.52941176 0.        ]\n",
            " [0.         0.52941176 0.        ]\n",
            " [0.         0.52941176 0.        ]\n",
            " [0.         0.52941176 0.        ]\n",
            " [0.         0.52941176 0.        ]\n",
            " [0.         0.52941176 0.        ]\n",
            " [0.         0.52941176 0.        ]\n",
            " [0.         0.52941176 0.        ]\n",
            " [0.         0.52941176 0.        ]\n",
            " [0.         0.52941176 0.        ]\n",
            " [0.         0.52941176 0.        ]\n",
            " [0.         0.52941176 0.        ]\n",
            " [0.         0.52941176 0.        ]\n",
            " [0.         0.52941176 0.        ]\n",
            " [0.         0.52941176 0.        ]\n",
            " [0.         0.52941176 0.        ]\n",
            " [0.         0.52941176 0.        ]\n",
            " [0.         0.52941176 0.        ]\n",
            " [0.         0.52941176 0.        ]\n",
            " [0.         0.52941176 0.        ]\n",
            " [0.         0.52941176 0.        ]\n",
            " [0.         0.52941176 0.        ]\n",
            " [0.         0.52941176 0.        ]\n",
            " [0.         0.54117647 0.        ]\n",
            " [0.         0.52941176 0.        ]\n",
            " [0.         0.52156863 0.        ]\n",
            " [0.         0.5254902  0.        ]\n",
            " [0.         0.54509804 0.        ]\n",
            " [0.         0.55294118 0.        ]\n",
            " [0.         0.54117647 0.        ]\n",
            " [0.         0.52156863 0.        ]\n",
            " [0.         0.49803922 0.        ]\n",
            " [0.         0.49803922 0.        ]\n",
            " [0.         0.49803922 0.        ]\n",
            " [0.         0.49803922 0.        ]\n",
            " [0.         0.49411765 0.        ]\n",
            " [0.         0.49019608 0.        ]\n",
            " [0.         0.49019608 0.        ]\n",
            " [0.         0.49019608 0.        ]\n",
            " [0.         0.49803922 0.        ]\n",
            " [0.         0.49803922 0.        ]\n",
            " [0.         0.49803922 0.        ]\n",
            " [0.         0.49411765 0.        ]\n",
            " [0.         0.49411765 0.        ]\n",
            " [0.         0.49411765 0.        ]\n",
            " [0.         0.49411765 0.        ]\n",
            " [0.         0.49019608 0.        ]\n",
            " [0.         0.49019608 0.        ]\n",
            " [0.         0.49411765 0.        ]\n",
            " [0.         0.49803922 0.        ]\n",
            " [0.         0.49803922 0.        ]\n",
            " [0.         0.49803922 0.        ]\n",
            " [0.         0.49411765 0.        ]\n",
            " [0.         0.49019608 0.        ]\n",
            " [0.         0.49019608 0.        ]\n",
            " [0.         0.49411765 0.        ]\n",
            " [0.         0.50196078 0.        ]\n",
            " [0.         0.50588235 0.        ]\n",
            " [0.         0.50196078 0.        ]\n",
            " [0.         0.49019608 0.        ]\n",
            " [0.         0.48627451 0.        ]\n",
            " [0.         0.49019608 0.        ]\n",
            " [0.         0.49803922 0.        ]]\n"
          ]
        }
      ]
    },
    {
      "cell_type": "code",
      "source": [
        "plt.imshow(pixel_array_rgb, cmap='gray')"
      ],
      "metadata": {
        "colab": {
          "base_uri": "https://localhost:8080/",
          "height": 452
        },
        "id": "YaytI1HFyAcX",
        "outputId": "5db44539-0d4a-4aa5-cc40-64f149d2e098"
      },
      "execution_count": 28,
      "outputs": [
        {
          "output_type": "execute_result",
          "data": {
            "text/plain": [
              "<matplotlib.image.AxesImage at 0x7c5047500160>"
            ]
          },
          "metadata": {},
          "execution_count": 28
        },
        {
          "output_type": "display_data",
          "data": {
            "text/plain": [
              "<Figure size 640x480 with 1 Axes>"
            ],
            "image/png": "[encoded data removed]"
          },
          "metadata": {}
        }
      ]
    }
  ]
}